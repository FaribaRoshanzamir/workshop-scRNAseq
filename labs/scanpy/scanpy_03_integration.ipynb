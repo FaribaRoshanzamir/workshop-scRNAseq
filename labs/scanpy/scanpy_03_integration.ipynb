{
 "cells": [
  {
   "cell_type": "markdown",
   "metadata": {},
   "source": [
    "# Scanpy: Data integration\n",
    "\n",
    "#INTEG_ALL1:\n",
    "\n",
    "#INTEG_TABLE:"
   ]
  },
  {
   "cell_type": "code",
   "execution_count": null,
   "metadata": {},
   "outputs": [],
   "source": [
    "import numpy as np\n",
    "import pandas as pd\n",
    "import scanpy as sc\n",
    "import matplotlib.pyplot as plt\n",
    "\n",
    "sc.settings.verbosity = 3             # verbosity: errors (0), warnings (1), info (2), hints (3)\n",
    "#sc.logging.print_versions()\n",
    "\n",
    "sc.settings.set_figure_params(dpi=80)\n",
    "%matplotlib inline"
   ]
  },
  {
   "cell_type": "markdown",
   "metadata": {},
   "source": [
    "First need to load the QC filtered dataset and create individual adata objects per batch."
   ]
  },
  {
   "cell_type": "code",
   "execution_count": null,
   "metadata": {},
   "outputs": [],
   "source": [
    "# Load the stored data object\n",
    "save_file = './data/results/scanpy_dr_covid.h5ad'\n",
    "adata = sc.read_h5ad(save_file)\n"
   ]
  },
  {
   "cell_type": "code",
   "execution_count": null,
   "metadata": {},
   "outputs": [],
   "source": [
    "print(adata.X.shape)"
   ]
  },
  {
   "cell_type": "markdown",
   "metadata": {},
   "source": [
    "#INTEG_1_SCANPY:"
   ]
  },
  {
   "cell_type": "code",
   "execution_count": null,
   "metadata": {},
   "outputs": [],
   "source": [
    "adata2 = adata.raw.to_adata() \n",
    "\n",
    "# check that the matrix looks like noramlized counts\n",
    "print(adata2.X[1:10,1:10])\n"
   ]
  },
  {
   "cell_type": "markdown",
   "metadata": {},
   "source": [
    "#INTEG_2_SCANPY:\n",
    "\n",
    "#INTEG_3_SCANPY:\n",
    "\n"
   ]
  },
  {
   "cell_type": "code",
   "execution_count": null,
   "metadata": {},
   "outputs": [],
   "source": [
    "var_genes_all = adata.var.highly_variable\n",
    "\n",
    "print(\"Highly variable genes: %d\"%sum(var_genes_all))"
   ]
  },
  {
   "cell_type": "markdown",
   "metadata": {},
   "source": [
    "#INTEG_5_SCANPY:"
   ]
  },
  {
   "cell_type": "code",
   "execution_count": null,
   "metadata": {},
   "outputs": [],
   "source": [
    "sc.pp.highly_variable_genes(adata2, min_mean=0.0125, max_mean=3, min_disp=0.5, batch_key = 'sample')\n",
    "\n",
    "print(\"Highly variable genes intersection: %d\"%sum(adata2.var.highly_variable_intersection))\n",
    "\n",
    "print(\"Number of batches where gene is variable:\")\n",
    "print(adata2.var.highly_variable_nbatches.value_counts())\n",
    "\n",
    "var_genes_batch = adata2.var.highly_variable_nbatches > 0"
   ]
  },
  {
   "cell_type": "markdown",
   "metadata": {},
   "source": [
    "Compare overlap of the variable genes."
   ]
  },
  {
   "cell_type": "code",
   "execution_count": null,
   "metadata": {},
   "outputs": [],
   "source": [
    "print(\"Any batch var genes: %d\"%sum(var_genes_batch))\n",
    "print(\"All data var genes: %d\"%sum(var_genes_all))\n",
    "print(\"Overlap: %d\"%sum(var_genes_batch & var_genes_all))\n",
    "print(\"Variable genes in all batches: %d\"%sum(adata2.var.highly_variable_nbatches == 6))\n",
    "print(\"Overlap batch instersection and all: %d\"%sum(var_genes_all & adata2.var.highly_variable_intersection))\n"
   ]
  },
  {
   "cell_type": "markdown",
   "metadata": {},
   "source": [
    "Select all genes that are variable in at least 2 datasets and use for remaining analysis. "
   ]
  },
  {
   "cell_type": "code",
   "execution_count": null,
   "metadata": {},
   "outputs": [],
   "source": [
    "var_select = adata2.var.highly_variable_nbatches > 2\n",
    "var_genes = var_select.index[var_select]\n",
    "len(var_genes)\n"
   ]
  },
  {
   "cell_type": "markdown",
   "metadata": {},
   "source": [
    "### Data integration\n",
    "\n",
    "First we need to create individual AnnData objects from each of the datasets."
   ]
  },
  {
   "cell_type": "code",
   "execution_count": null,
   "metadata": {},
   "outputs": [],
   "source": [
    "# split per batch into new objects.\n",
    "batches = adata.obs['sample'].cat.categories.tolist()\n",
    "alldata = {}\n",
    "for batch in batches:\n",
    "    alldata[batch] = adata2[adata2.obs['sample'] == batch,]\n",
    "\n",
    "alldata    "
   ]
  },
  {
   "cell_type": "markdown",
   "metadata": {},
   "source": [
    "Then perform batch correction with MNN. "
   ]
  },
  {
   "cell_type": "markdown",
   "metadata": {},
   "source": [
    "The function mnn_correct has the following input options:\n",
    "\n",
    "```    \n",
    "scanpy.api.pp.mnn_correct(*datas, var_index=None, var_subset=None, \n",
    " batch_key='batch', index_unique='-', batch_categories=None, k=20, \n",
    " sigma=1.0, cos_norm_in=True, cos_norm_out=True, svd_dim=None, \n",
    " var_adj=True, compute_angle=False, mnn_order=None, svd_mode='rsvd', \n",
    " do_concatenate=True, save_raw=False, n_jobs=None, **kwargs)\n",
    "```\n",
    "\n",
    "We run it with the option `save_raw=True` so that the uncorrected matrix will be stored in the slot `raw`."
   ]
  },
  {
   "cell_type": "code",
   "execution_count": null,
   "metadata": {},
   "outputs": [],
   "source": [
    "cdata = sc.external.pp.mnn_correct(alldata['covid_1'],alldata['covid_15'],alldata['covid_17'],\n",
    "                                   alldata['ctrl_5'],alldata['ctrl_13'],alldata['ctrl_14'], \n",
    "                                   svd_dim = 50, batch_key = 'sample', save_raw = True, var_subset = var_genes)\n",
    "\n"
   ]
  },
  {
   "cell_type": "markdown",
   "metadata": {},
   "source": [
    "#INTEG_10_SCANPY:\n"
   ]
  },
  {
   "cell_type": "code",
   "execution_count": null,
   "metadata": {},
   "outputs": [],
   "source": [
    "corr_data = cdata[0][:,var_genes]\n",
    "corr_data.X.shape"
   ]
  },
  {
   "cell_type": "code",
   "execution_count": null,
   "metadata": {},
   "outputs": [],
   "source": [
    "# the variable genes defined are used by default by the pca function, \n",
    "# now we want to run on all the genes in the dataset\n",
    "sc.tl.pca(corr_data, svd_solver = 'arpack', use_highly_variable = False)\n",
    "sc.pl.pca(corr_data, components = ['1,2','3,4','5,6','7,8'], ncols=2, color='sample')\n",
    "\n",
    "\n",
    "# tSNE\n",
    "sc.tl.tsne(corr_data, n_pcs = 50)\n",
    "# UMAP, first with neighbor calculation \n",
    "sc.pp.neighbors(corr_data, n_pcs = 50, n_neighbors = 20)\n",
    "sc.tl.umap(corr_data)\n",
    "\n"
   ]
  },
  {
   "cell_type": "markdown",
   "metadata": {},
   "source": [
    "#INTEG_ALL4:"
   ]
  },
  {
   "cell_type": "code",
   "execution_count": null,
   "metadata": {},
   "outputs": [],
   "source": [
    "fig, axs = plt.subplots(2, 2, figsize=(8,8),constrained_layout=True)\n",
    "sc.pl.tsne(corr_data, color=\"sample\", title=\"MNN Corrected tsne\", ax=axs[0,0], show=False)\n",
    "sc.pl.tsne(adata, color=\"sample\", title=\"Uncorrected tsne\", ax=axs[0,1], show=False)\n",
    "sc.pl.umap(corr_data, color=\"sample\", title=\"MNN Corrected umap\", ax=axs[1,0], show=False)\n",
    "sc.pl.umap(adata, color=\"sample\", title=\"Uncorrected umap\", ax=axs[1,1], show=False)"
   ]
  },
  {
   "cell_type": "markdown",
   "metadata": {},
   "source": [
    "\n",
    "#INTEG_ALL5:"
   ]
  },
  {
   "cell_type": "code",
   "execution_count": null,
   "metadata": {},
   "outputs": [],
   "source": [
    "save_file = './data/results/scanpy_mnn_corrected_covid.h5ad'\n",
    "corr_data.write_h5ad(save_file)"
   ]
  },
  {
   "cell_type": "markdown",
   "metadata": {},
   "source": [
    "#INTEG_12_SCANPY:\n",
    "\n",
    "#INTEG_13_SCANPY:"
   ]
  },
  {
   "cell_type": "code",
   "execution_count": null,
   "metadata": {},
   "outputs": [],
   "source": [
    "# create a new object with lognormalized counts\n",
    "adata_combat = sc.AnnData(X=adata.raw.X, var=adata.raw.var, obs = adata.obs)\n",
    "\n",
    "\n",
    "# first store the raw data \n",
    "adata_combat.raw = adata_combat\n",
    "\n",
    "# run combat\n",
    "sc.pp.combat(adata_combat, key='sample')"
   ]
  },
  {
   "cell_type": "code",
   "execution_count": null,
   "metadata": {},
   "outputs": [],
   "source": [
    "sc.pp.highly_variable_genes(adata_combat)\n",
    "print(\"Highly variable genes: %d\"%sum(adata_combat.var.highly_variable))\n",
    "sc.pl.highly_variable_genes(adata_combat)\n",
    "\n",
    "\n",
    "sc.pp.pca(adata_combat, n_comps=30, use_highly_variable=True, svd_solver='arpack')\n",
    "\n",
    "sc.pp.neighbors(adata_combat, n_pcs =30)\n",
    "\n",
    "sc.tl.umap(adata_combat)\n",
    "sc.tl.tsne(adata_combat, n_pcs = 30)\n"
   ]
  },
  {
   "cell_type": "code",
   "execution_count": null,
   "metadata": {},
   "outputs": [],
   "source": [
    "# compare var_genes\n",
    "var_genes_combat = adata_combat.var.highly_variable\n",
    "print(\"With all data %d\"%sum(var_genes_all))\n",
    "print(\"With combat %d\"%sum(var_genes_combat))\n",
    "print(\"Overlap %d\"%sum(var_genes_all & var_genes_combat))\n",
    "\n",
    "print(\"With 2 batches %d\"%sum(var_select))\n",
    "print(\"Overlap %d\"%sum(var_genes_combat & var_select))"
   ]
  },
  {
   "cell_type": "code",
   "execution_count": null,
   "metadata": {},
   "outputs": [],
   "source": [
    "fig, axs = plt.subplots(2, 2, figsize=(8,8),constrained_layout=True)\n",
    "sc.pl.tsne(corr_data, color=\"sample\", title=\"MNN tsne\", ax=axs[0,0], show=False)\n",
    "sc.pl.tsne(adata_combat, color=\"sample\", title=\"Combat tsne\", ax=axs[0,1], show=False)\n",
    "sc.pl.umap(corr_data, color=\"sample\", title=\"MNN umap\", ax=axs[1,0], show=False)\n",
    "sc.pl.umap(adata_combat, color=\"sample\", title=\"Combat umap\", ax=axs[1,1], show=False)\n"
   ]
  },
  {
   "cell_type": "code",
   "execution_count": null,
   "metadata": {},
   "outputs": [],
   "source": [
    "#save to file\n",
    "save_file = './data/results/scanpy_combat_corrected_covid.h5ad'\n",
    "adata_combat.write_h5ad(save_file)"
   ]
  },
  {
   "cell_type": "markdown",
   "metadata": {},
   "source": [
    "#INTEG_15_SCANPY:\n",
    "\n",
    "#INTEG_16_SCANPY:\n"
   ]
  },
  {
   "cell_type": "code",
   "execution_count": null,
   "metadata": {},
   "outputs": [],
   "source": [
    "import scanorama\n",
    "\n",
    "\n",
    "#subset the individual dataset to the same variable genes as in MNN-correct.\n",
    "alldata2 = dict()\n",
    "for ds in alldata.keys():\n",
    "    print(ds)\n",
    "    alldata2[ds] = alldata[ds][:,var_genes]\n",
    "\n",
    "#convert to list of AnnData objects\n",
    "adatas = list(alldata2.values())\n",
    "\n",
    "# run scanorama.integrate\n",
    "scanorama.integrate_scanpy(adatas, dimred = 50)\n"
   ]
  },
  {
   "cell_type": "code",
   "execution_count": null,
   "metadata": {},
   "outputs": [],
   "source": [
    "#scanorama adds the corrected matrix to adata.obsm in each of the datasets in adatas.\n",
    "\n",
    "adatas[0].obsm['X_scanorama'].shape"
   ]
  },
  {
   "cell_type": "code",
   "execution_count": null,
   "metadata": {},
   "outputs": [],
   "source": [
    "# Get all the integrated matrices.\n",
    "scanorama_int = [ad.obsm['X_scanorama'] for ad in adatas]\n",
    "\n",
    "# make into one matrix.\n",
    "all_s = np.concatenate(scanorama_int)\n",
    "print(all_s.shape)\n",
    "\n",
    "# add to the AnnData object\n",
    "adata.obsm[\"Scanorama\"] = all_s"
   ]
  },
  {
   "cell_type": "code",
   "execution_count": null,
   "metadata": {},
   "outputs": [],
   "source": [
    "# tsne and umap\n",
    "sc.pp.neighbors(adata, n_pcs =50, use_rep = \"Scanorama\")\n",
    "sc.tl.umap(adata)\n",
    "sc.tl.tsne(adata, n_pcs = 50, use_rep = \"Scanorama\")\n"
   ]
  },
  {
   "cell_type": "code",
   "execution_count": null,
   "metadata": {},
   "outputs": [],
   "source": [
    "fig, axs = plt.subplots(2, 2, figsize=(8,8),constrained_layout=True)\n",
    "sc.pl.tsne(adata_combat, color=\"sample\", title=\"Combat tsne\", ax=axs[0,0], show=False)\n",
    "sc.pl.tsne(adata, color=\"sample\", title=\"Scanorama tsne\", ax=axs[0,1], show=False)\n",
    "sc.pl.umap(adata_combat, color=\"sample\", title=\"Combat umap\", ax=axs[1,0], show=False)\n",
    "sc.pl.umap(adata, color=\"sample\", title=\"Scanorama umap\", ax=axs[1,1], show=False)\n"
   ]
  },
  {
   "cell_type": "code",
   "execution_count": null,
   "metadata": {},
   "outputs": [],
   "source": [
    "#save to file\n",
    "save_file = './data/results/scanpy_scanorama_corrected_covid.h5ad'\n",
    "adata.write_h5ad(save_file)"
   ]
  }
 ],
 "metadata": {
  "kernelspec": {
   "display_name": "Python 3 (ipykernel)",
   "language": "python",
   "name": "python3"
  },
  "language_info": {
   "codemirror_mode": {
    "name": "ipython",
    "version": 3
   },
   "file_extension": ".py",
   "mimetype": "text/x-python",
   "name": "python",
   "nbconvert_exporter": "python",
   "pygments_lexer": "ipython3",
   "version": "3.9.9"
  }
 },
 "nbformat": 4,
 "nbformat_minor": 2
}
