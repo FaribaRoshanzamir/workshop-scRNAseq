{
 "cells": [
  {
   "cell_type": "markdown",
   "metadata": {},
   "source": [
    "# Scanpy: Quality control"
   ]
  },
  {
   "cell_type": "markdown",
   "metadata": {},
   "source": [
    "#DATA_TITLE:\n",
    "\n",
    "#DATA_ALL1:\n"
   ]
  },
  {
   "cell_type": "code",
   "execution_count": 1,
   "metadata": {},
   "outputs": [],
   "source": [
    "# create a data directory.\n",
    "!mkdir -p data\n",
    "\n",
    "# check if file exists before downloading it.\n",
    "!if [ ! -f data/pbmc_1k_v2_filtered_feature_bc_matrix.h5 ]; then curl -o data/pbmc_1k_v2_filtered_feature_bc_matrix.h5 -O http://cf.10xgenomics.com/samples/cell-exp/3.0.0/pbmc_1k_v2/pbmc_1k_v2_filtered_feature_bc_matrix.h5; fi\n",
    "\n",
    "!if [ ! -f data/pbmc_1k_v3_filtered_feature_bc_matrix.h5 ]; then curl -o data/pbmc_1k_v3_filtered_feature_bc_matrix.h5 -O http://cf.10xgenomics.com/samples/cell-exp/3.0.0/pbmc_1k_v3/pbmc_1k_v3_filtered_feature_bc_matrix.h5; fi\n",
    "\n",
    "!if [ ! -f data/pbmc_1k_protein_v3_filtered_feature_bc_matrix.h5 ]; then curl -o data/pbmc_1k_protein_v3_filtered_feature_bc_matrix.h5 -O http://cf.10xgenomics.com/samples/cell-exp/3.0.0/pbmc_1k_protein_v3/pbmc_1k_protein_v3_filtered_feature_bc_matrix.h5; fi"
   ]
  },
  {
   "cell_type": "markdown",
   "metadata": {},
   "source": [
    "#DATA_ALL2:"
   ]
  },
  {
   "cell_type": "code",
   "execution_count": null,
   "metadata": {
    "scrolled": false
   },
   "outputs": [],
   "source": [
    "import numpy as np\n",
    "import pandas as pd\n",
    "import scanpy as sc\n",
    "\n",
    "\n",
    "sc.settings.verbosity = 3             # verbosity: errors (0), warnings (1), info (2), hints (3)\n",
    "sc.logging.print_versions()\n"
   ]
  },
  {
   "cell_type": "code",
   "execution_count": null,
   "metadata": {},
   "outputs": [],
   "source": [
    "sc.settings.set_figure_params(dpi=80)"
   ]
  },
  {
   "cell_type": "markdown",
   "metadata": {},
   "source": [
    "#DATA_ALL3:"
   ]
  },
  {
   "cell_type": "code",
   "execution_count": null,
   "metadata": {
    "scrolled": true
   },
   "outputs": [],
   "source": [
    "data_p3 = sc.read_10x_h5(\n",
    "    './data/pbmc_1k_protein_v3_filtered_feature_bc_matrix.h5', gex_only = True)  \n",
    "# OBS! gex_only to only read gene expression data.\n",
    "data_p3.var_names_make_unique()\n",
    "\n",
    "data_v2 = sc.read_10x_h5(\n",
    "    './data/pbmc_1k_v2_filtered_feature_bc_matrix.h5')\n",
    "data_v2.var_names_make_unique()\n",
    "\n",
    "data_v3 = sc.read_10x_h5(\n",
    "    './data/pbmc_1k_v3_filtered_feature_bc_matrix.h5')\n",
    "data_v3.var_names_make_unique()\n"
   ]
  },
  {
   "cell_type": "markdown",
   "metadata": {},
   "source": [
    "#OBJ_TITLE:"
   ]
  },
  {
   "cell_type": "code",
   "execution_count": null,
   "metadata": {},
   "outputs": [],
   "source": [
    "# first add in batch info in metadata\n",
    "data_v2.obs['lib_prep'] = 'v2'\n",
    "data_v3.obs['lib_prep'] = 'v3'\n",
    "data_p3.obs['lib_prep'] = 'p3'\n",
    "\n",
    "\n",
    "# merge into one object\n",
    "adata = data_v2.concatenate(data_v3, data_p3)\n",
    "\n",
    "# and delete individual datasets to save space\n",
    "del(data_v2)\n",
    "del(data_v3)\n",
    "del(data_p3)\n"
   ]
  },
  {
   "cell_type": "markdown",
   "metadata": {},
   "source": [
    "#OBJ_SCRANPY:"
   ]
  },
  {
   "cell_type": "code",
   "execution_count": null,
   "metadata": {},
   "outputs": [],
   "source": [
    "print(adata.obs['lib_prep'].value_counts())\n",
    "\n",
    "adata"
   ]
  },
  {
   "cell_type": "markdown",
   "metadata": {},
   "source": [
    "#QC_TITLE:\n",
    "\n",
    "#QC_ALL1:\n",
    "\n",
    "#QC_ALL1.1:\n",
    "\n",
    "#QC_1_SCANPY:\n"
   ]
  },
  {
   "cell_type": "code",
   "execution_count": null,
   "metadata": {},
   "outputs": [],
   "source": [
    "sc.pp.calculate_qc_metrics(adata, inplace=True)\n",
    "\n",
    "# we now have many additional data types in the obs slot:\n",
    "adata"
   ]
  },
  {
   "cell_type": "markdown",
   "metadata": {},
   "source": [
    "#QC_2_SCANPY:"
   ]
  },
  {
   "cell_type": "code",
   "execution_count": null,
   "metadata": {},
   "outputs": [],
   "source": [
    "mito_genes = adata.var_names.str.startswith('MT-')\n",
    "# for each cell compute fraction of counts in mito genes vs. all genes\n",
    "# the `.A1` is only necessary as X is sparse (to transform to a dense array after summing)\n",
    "adata.obs['percent_mito'] = np.sum(\n",
    "    adata[:, mito_genes].X, axis=1).A1 / np.sum(adata.X, axis=1).A1\n",
    "# add the total counts per cell as observations-annotation to adata\n",
    "adata.obs['n_counts'] = adata.X.sum(axis=1).A1\n",
    "\n",
    "print(sum(mito_genes))"
   ]
  },
  {
   "cell_type": "markdown",
   "metadata": {},
   "source": [
    "#QC_ALL2: "
   ]
  },
  {
   "cell_type": "code",
   "execution_count": null,
   "metadata": {},
   "outputs": [],
   "source": [
    "# Also calculate percent malat1\n",
    "ribo_genes = adata.var_names.str.startswith((\"RPS\",\"RPL\"))\n",
    "print(sum(ribo_genes))\n",
    "\n",
    "adata.obs['percent_ribo'] = np.sum(\n",
    "    adata[:, ribo_genes].X, axis=1).A1 / np.sum(adata.X, axis=1).A1\n",
    "\n"
   ]
  },
  {
   "cell_type": "markdown",
   "metadata": {},
   "source": [
    "#QC_2_SCANPY:"
   ]
  },
  {
   "cell_type": "code",
   "execution_count": null,
   "metadata": {},
   "outputs": [],
   "source": [
    "adata"
   ]
  },
  {
   "cell_type": "markdown",
   "metadata": {},
   "source": [
    "#QC_TITLE2:\n",
    "\n",
    "#QC_ALL3:"
   ]
  },
  {
   "cell_type": "code",
   "execution_count": null,
   "metadata": {},
   "outputs": [],
   "source": [
    "sc.pl.violin(adata, ['n_genes_by_counts', 'n_counts', 'percent_mito','percent_ribo'],\n",
    "             jitter=0.4, groupby = 'lib_prep')"
   ]
  },
  {
   "cell_type": "markdown",
   "metadata": {},
   "source": [
    "#QC_ALL4:\n"
   ]
  },
  {
   "cell_type": "code",
   "execution_count": null,
   "metadata": {},
   "outputs": [],
   "source": [
    "sc.pl.scatter(adata, x='n_counts', y='percent_mito', color=\"lib_prep\")\n",
    "sc.pl.scatter(adata, x='n_counts', y='n_genes_by_counts', color=\"lib_prep\")\n",
    "sc.pl.scatter(adata, x='n_counts', y='percent_ribo', color=\"lib_prep\")\n",
    "sc.pl.scatter(adata, x='percent_mito', y='percent_ribo', color=\"lib_prep\")"
   ]
  },
  {
   "cell_type": "markdown",
   "metadata": {},
   "source": [
    "#FILTERING_TITLE:\n",
    "\n",
    "#FILTERING_ALL0:\n"
   ]
  },
  {
   "cell_type": "code",
   "execution_count": null,
   "metadata": {},
   "outputs": [],
   "source": [
    "sc.pp.filter_cells(adata, min_genes=200)\n",
    "sc.pp.filter_genes(adata, min_cells=3)\n",
    "\n",
    "print(adata.n_obs, adata.n_vars)"
   ]
  },
  {
   "cell_type": "markdown",
   "metadata": {},
   "source": [
    "#FILTERING_ALL3:"
   ]
  },
  {
   "cell_type": "code",
   "execution_count": null,
   "metadata": {},
   "outputs": [],
   "source": [
    "# filter for gene detection for v2\n",
    "keep_v2 = (adata.obs['n_genes_by_counts'] < 2000) & (adata.obs['n_genes_by_counts'] > 500) & (adata.obs['lib_prep'] == 'v2')\n",
    "print(sum(keep_v2))\n",
    "\n",
    "# filter for gene detection for v3\n",
    "keep_v3 = (adata.obs['n_genes_by_counts'] < 4100) & (adata.obs['n_genes_by_counts'] > 1000) & (adata.obs['lib_prep'] != 'v2')\n",
    "print(sum(keep_v3))\n",
    "\n",
    "# keep both sets of cells\n",
    "keep = (keep_v2) | (keep_v3)\n",
    "print(sum(keep))\n",
    "adata = adata[keep, :]\n",
    "\n",
    "print(\"Remaining cells %d\"%adata.n_obs)"
   ]
  },
  {
   "cell_type": "markdown",
   "metadata": {},
   "source": [
    "#FILTERING_ALL01:\n"
   ]
  },
  {
   "cell_type": "code",
   "execution_count": null,
   "metadata": {},
   "outputs": [],
   "source": [
    "sc.pl.highest_expr_genes(adata, n_top=20)"
   ]
  },
  {
   "cell_type": "markdown",
   "metadata": {},
   "source": [
    "#FILTERING_ALL02:\n",
    "\n",
    "#FILTERING_TITLE2:\n",
    "\n",
    "#FILTERING_ALL1:"
   ]
  },
  {
   "cell_type": "code",
   "execution_count": null,
   "metadata": {},
   "outputs": [],
   "source": [
    "# filter for percent mito\n",
    "adata = adata[adata.obs['percent_mito'] < 0.25, :]\n",
    "\n",
    "# filter for percent ribo > 0.05\n",
    "adata = adata[adata.obs['percent_ribo'] > 0.05, :]\n",
    "\n",
    "print(\"Remaining cells %d\"%adata.n_obs)"
   ]
  },
  {
   "cell_type": "markdown",
   "metadata": {},
   "source": [
    "#FILTERING_ALL2:\n",
    "\n",
    "#FILTERING_TITLE4:\n",
    "\n",
    "#FILTERING_ALL5:"
   ]
  },
  {
   "cell_type": "code",
   "execution_count": null,
   "metadata": {},
   "outputs": [],
   "source": [
    "sc.pl.violin(adata, ['n_genes_by_counts', 'n_counts', 'percent_mito','percent_ribo'],\n",
    "             jitter=0.4, groupby = 'lib_prep')"
   ]
  },
  {
   "cell_type": "markdown",
   "metadata": {},
   "source": [
    "#FILTERING_TITLE5:\n",
    "\n",
    "#FILTERING_ALL6:"
   ]
  },
  {
   "cell_type": "code",
   "execution_count": null,
   "metadata": {},
   "outputs": [],
   "source": [
    "malat1 = adata.var_names.str.startswith('MALAT1')\n",
    "# we need to redefine the mito_genes since they were first \n",
    "# calculated on the full object before removing low expressed genes.\n",
    "mito_genes = adata.var_names.str.startswith('MT-')\n",
    "\n",
    "remove = np.add(mito_genes, malat1)\n",
    "keep = np.invert(remove)\n",
    "\n",
    "adata = adata[:,keep]\n",
    "\n",
    "print(adata.n_obs, adata.n_vars)"
   ]
  },
  {
   "cell_type": "markdown",
   "metadata": {},
   "source": [
    "#FILTERING_ALL7:\n",
    "\n",
    "#FILTERING_ALL8:"
   ]
  },
  {
   "cell_type": "code",
   "execution_count": null,
   "metadata": {},
   "outputs": [],
   "source": [
    "save_file = 'data/scanpy_qc_filtered_3pbmc.h5ad'\n",
    "adata.write_h5ad(save_file)"
   ]
  },
  {
   "cell_type": "markdown",
   "metadata": {},
   "source": [
    "#CELLCYCLE_TITLE:\n",
    "\n",
    "#CELLCYCLE_ALL1:\n",
    "\n",
    "#CELLCYCLE_1_SCANPY:\n"
   ]
  },
  {
   "cell_type": "code",
   "execution_count": null,
   "metadata": {},
   "outputs": [],
   "source": [
    "!if [ ! -f data/regev_lab_cell_cycle_genes.txt ]; then curl -o data/regev_lab_cell_cycle_genes.txt https://raw.githubusercontent.com/theislab/scanpy_usage/master/180209_cell_cycle/data/regev_lab_cell_cycle_genes.txt; fi\n",
    "    "
   ]
  },
  {
   "cell_type": "code",
   "execution_count": null,
   "metadata": {},
   "outputs": [],
   "source": [
    "cell_cycle_genes = [x.strip() for x in open('./data/regev_lab_cell_cycle_genes.txt')]\n",
    "print(len(cell_cycle_genes))\n",
    "\n",
    "# Split into 2 lists\n",
    "s_genes = cell_cycle_genes[:43]\n",
    "g2m_genes = cell_cycle_genes[43:]\n",
    "\n",
    "cell_cycle_genes = [x for x in cell_cycle_genes if x in adata.var_names]\n",
    "print(len(cell_cycle_genes))"
   ]
  },
  {
   "cell_type": "markdown",
   "metadata": {},
   "source": [
    "#CELLCYCLE_2_SCANPY: "
   ]
  },
  {
   "cell_type": "code",
   "execution_count": null,
   "metadata": {},
   "outputs": [],
   "source": [
    "adata.raw = adata\n",
    "\n",
    "# normalize to depth 10 000\n",
    "sc.pp.normalize_per_cell(adata, counts_per_cell_after=1e4)\n",
    "\n",
    "# logaritmize\n",
    "sc.pp.log1p(adata)\n",
    "\n",
    "# scale\n",
    "sc.pp.scale(adata)"
   ]
  },
  {
   "cell_type": "markdown",
   "metadata": {},
   "source": [
    "#CELLCYCLE_3_SCANPY: "
   ]
  },
  {
   "cell_type": "code",
   "execution_count": null,
   "metadata": {},
   "outputs": [],
   "source": [
    "sc.tl.score_genes_cell_cycle(adata, s_genes=s_genes, g2m_genes=g2m_genes)"
   ]
  },
  {
   "cell_type": "markdown",
   "metadata": {},
   "source": [
    "#CELLCYCLE_ALL2:"
   ]
  },
  {
   "cell_type": "code",
   "execution_count": null,
   "metadata": {},
   "outputs": [],
   "source": [
    "sc.pl.violin(adata, ['S_score', 'G2M_score'],\n",
    "             jitter=0.4, groupby = 'lib_prep')"
   ]
  },
  {
   "cell_type": "markdown",
   "metadata": {},
   "source": [
    "#CELLCYCLE_ALL3:\n",
    "\n"
   ]
  },
  {
   "cell_type": "code",
   "execution_count": null,
   "metadata": {},
   "outputs": [],
   "source": [
    "adata"
   ]
  },
  {
   "cell_type": "code",
   "execution_count": null,
   "metadata": {},
   "outputs": [],
   "source": []
  }
 ],
 "metadata": {
  "anaconda-cloud": {},
  "kernelspec": {
   "display_name": "Python 3",
   "language": "python",
   "name": "python3"
  },
  "language_info": {
   "codemirror_mode": {
    "name": "ipython",
    "version": 3
   },
   "file_extension": ".py",
   "mimetype": "text/x-python",
   "name": "python",
   "nbconvert_exporter": "python",
   "pygments_lexer": "ipython3",
   "version": "3.6.7"
  }
 },
 "nbformat": 4,
 "nbformat_minor": 2
}
