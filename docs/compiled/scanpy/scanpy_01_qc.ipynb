{
  "cells": [
    {
      "cell_type": "raw",
      "metadata": {},
      "source": [
        "---\n",
        "title: \"{{< meta qc_title >}}\"\n",
        "subtitle: \"{{< meta subtitle_scanpy >}}\"\n",
        "description: \"{{< meta qc_description >}}\"\n",
        "format: html\n",
        "engine: jupyter\n",
        "---"
      ]
    },
    {
      "cell_type": "markdown",
      "metadata": {},
      "source": [
        "::: {.callout-note}\n",
        "Code chunks run Python commands unless it starts with `%%bash`, in which case, those chunks run shell commands.\n",
        ":::\n",
        "\n",
        "## {{< meta qc_data >}}\n",
        "\n",
        "{{< meta qc_data_1 >}}"
      ]
    },
    {
      "cell_type": "code",
      "metadata": {},
      "source": [
        "%%bash\n",
        "\n",
        "if [ ! -d \"data/raw\" ] \n",
        "then\n",
        "  # create a data directory.\n",
        "  mkdir -p data/raw\n",
        "\n",
        "  # first check if the files are there\n",
        "  count=$(ls -l data/raw/*.h5 | grep -v ^d | wc -l )\n",
        "  echo $count\n",
        "\n",
        "  # if not 4 files, fetch the files from github.\n",
        "  if ((\"$count\" <  6)); then\n",
        "    cd data/raw\n",
        "    curl -O https://raw.githubusercontent.com/NBISweden/workshop-scRNAseq/new_dataset/labs/data/covid_data_GSE149689/sub/Normal_PBMC_13.h5\n",
        "    curl -O https://raw.githubusercontent.com/NBISweden/workshop-scRNAseq/new_dataset/labs/data/covid_data_GSE149689/sub/Normal_PBMC_14.h5\n",
        "    curl -O https://raw.githubusercontent.com/NBISweden/workshop-scRNAseq/new_dataset/labs/data/covid_data_GSE149689/sub/Normal_PBMC_5.h5\n",
        "    curl -O https://raw.githubusercontent.com/NBISweden/workshop-scRNAseq/new_dataset/labs/data/covid_data_GSE149689/sub/nCoV_PBMC_15.h5\n",
        "    curl -O https://raw.githubusercontent.com/NBISweden/workshop-scRNAseq/new_dataset/labs/data/covid_data_GSE149689/sub/nCoV_PBMC_17.h5\n",
        "    curl -O https://raw.githubusercontent.com/NBISweden/workshop-scRNAseq/new_dataset/labs/data/covid_data_GSE149689/sub/nCoV_PBMC_1.h5\n",
        "    cd ../..\n",
        "  fi\n",
        "fi\n",
        "\n",
        "ls -lGa data/raw"
      ],
      "execution_count": null,
      "outputs": []
    },
    {
      "cell_type": "markdown",
      "metadata": {},
      "source": [
        "{{< meta qc_data_2 >}}"
      ]
    },
    {
      "cell_type": "code",
      "metadata": {},
      "source": [
        "import numpy as np\n",
        "import pandas as pd\n",
        "import scanpy as sc\n",
        "\n",
        "# verbosity: errors (0), warnings (1), info (2), hints (3)\n",
        "sc.settings.verbosity = 3\n",
        "sc.settings.set_figure_params(dpi=80)"
      ],
      "execution_count": null,
      "outputs": []
    },
    {
      "cell_type": "markdown",
      "metadata": {},
      "source": [
        "{{< meta qc_data_3 >}}"
      ]
    },
    {
      "cell_type": "code",
      "metadata": {},
      "source": [
        "data_cov1 = sc.read_10x_h5('./data/raw/nCoV_PBMC_1.h5')\n",
        "data_cov1.var_names_make_unique()\n",
        "data_cov15 = sc.read_10x_h5('./data/raw/nCoV_PBMC_15.h5')\n",
        "data_cov15.var_names_make_unique()\n",
        "data_cov17 = sc.read_10x_h5('./data/raw/nCoV_PBMC_17.h5')\n",
        "data_cov17.var_names_make_unique()\n",
        "data_ctrl5 = sc.read_10x_h5('./data/raw/Normal_PBMC_5.h5')\n",
        "data_ctrl5.var_names_make_unique()\n",
        "data_ctrl13 = sc.read_10x_h5('./data/raw/Normal_PBMC_13.h5')\n",
        "data_ctrl13.var_names_make_unique()\n",
        "data_ctrl14 = sc.read_10x_h5('./data/raw/Normal_PBMC_14.h5')\n",
        "data_ctrl14.var_names_make_unique()"
      ],
      "execution_count": null,
      "outputs": []
    },
    {
      "cell_type": "markdown",
      "metadata": {},
      "source": [
        "## {{< meta qc_collate >}}"
      ]
    },
    {
      "cell_type": "code",
      "metadata": {},
      "source": [
        "# add some metadata\n",
        "data_cov1.obs['type']=\"Covid\"\n",
        "data_cov1.obs['sample']=\"covid_1\"\n",
        "data_cov15.obs['type']=\"Covid\"\n",
        "data_cov15.obs['sample']=\"covid_15\"\n",
        "data_cov17.obs['type']=\"Covid\"\n",
        "data_cov17.obs['sample']=\"covid_17\"\n",
        "data_ctrl5.obs['type']=\"Ctrl\"\n",
        "data_ctrl5.obs['sample']=\"ctrl_5\"\n",
        "data_ctrl13.obs['type']=\"Ctrl\"\n",
        "data_ctrl13.obs['sample']=\"ctrl_13\"\n",
        "data_ctrl14.obs['type']=\"Ctrl\"\n",
        "data_ctrl14.obs['sample']=\"ctrl_14\"\n",
        "\n",
        "# merge into one object.\n",
        "adata = data_cov1.concatenate(data_cov15, data_cov17, data_ctrl5, data_ctrl13, data_ctrl14)\n",
        "\n",
        "# and delete individual datasets to save space\n",
        "del(data_cov1, data_cov15, data_cov17)\n",
        "del(data_ctrl5, data_ctrl13, data_ctrl14)"
      ],
      "execution_count": null,
      "outputs": []
    },
    {
      "cell_type": "markdown",
      "metadata": {},
      "source": [
        "You can print a summary of the datasets in the Scanpy object, or a summary of the whole object."
      ]
    },
    {
      "cell_type": "code",
      "metadata": {},
      "source": [
        "print(adata.obs['sample'].value_counts())\n",
        "adata"
      ],
      "execution_count": null,
      "outputs": []
    },
    {
      "cell_type": "markdown",
      "metadata": {},
      "source": [
        "## {{< meta qc_calqc >}}\n",
        "\n",
        "{{< meta qc_calqc_1 >}}\n",
        "\n",
        "{{< meta qc_calqc_2 >}}\n",
        "\n",
        "First, let Scanpy calculate some general qc-stats for genes and cells with the function `sc.pp.calculate_qc_metrics`, similar to `calculateQCmetrics()` in Scater. It can also calculate proportion of counts for specific gene populations, so first we need to define which genes are mitochondrial, ribosomal and hemoglobin."
      ]
    },
    {
      "cell_type": "code",
      "metadata": {},
      "source": [
        "# mitochondrial genes\n",
        "adata.var['mt'] = adata.var_names.str.startswith('MT-') \n",
        "# ribosomal genes\n",
        "adata.var['ribo'] = adata.var_names.str.startswith((\"RPS\",\"RPL\"))\n",
        "# hemoglobin genes.\n",
        "adata.var['hb'] = adata.var_names.str.contains((\"^HB[^(P)]\"))\n",
        "\n",
        "adata.var"
      ],
      "execution_count": null,
      "outputs": []
    },
    {
      "cell_type": "code",
      "metadata": {},
      "source": [
        "sc.pp.calculate_qc_metrics(adata, qc_vars=['mt','ribo','hb'], percent_top=None, log1p=False, inplace=True)"
      ],
      "execution_count": null,
      "outputs": []
    },
    {
      "cell_type": "markdown",
      "metadata": {},
      "source": [
        "{{< meta qc_calqc_3 >}}"
      ]
    },
    {
      "cell_type": "code",
      "metadata": {},
      "source": [
        "mito_genes = adata.var_names.str.startswith('MT-')\n",
        "# for each cell compute fraction of counts in mito genes vs. all genes\n",
        "# the `.A1` is only necessary as X is sparse (to transform to a dense array after summing)\n",
        "adata.obs['percent_mt2'] = np.sum(\n",
        "    adata[:, mito_genes].X, axis=1).A1 / np.sum(adata.X, axis=1).A1\n",
        "# add the total counts per cell as observations-annotation to adata\n",
        "adata.obs['n_counts'] = adata.X.sum(axis=1).A1\n",
        "\n",
        "adata"
      ],
      "execution_count": null,
      "outputs": []
    },
    {
      "cell_type": "markdown",
      "metadata": {},
      "source": [
        "## {{< meta qc_plotqc >}}\n",
        "\n",
        "{{< meta qc_plotqc_1 >}}"
      ]
    },
    {
      "cell_type": "code",
      "metadata": {},
      "source": [
        "sc.pl.violin(adata, ['n_genes_by_counts', 'total_counts', 'pct_counts_mt','pct_counts_ribo', 'pct_counts_hb'], jitter=0.4, groupby = 'sample', rotation= 45)"
      ],
      "execution_count": null,
      "outputs": []
    },
    {
      "cell_type": "markdown",
      "metadata": {},
      "source": [
        "{{< meta qc_plotqc_2 >}}"
      ]
    },
    {
      "cell_type": "code",
      "metadata": {
        "fig-height": 5,
        "fig-width": 5
      },
      "source": [
        "sc.pl.scatter(adata, x='total_counts', y='pct_counts_mt', color=\"sample\")"
      ],
      "execution_count": null,
      "outputs": []
    },
    {
      "cell_type": "markdown",
      "metadata": {},
      "source": [
        ":::{.callout-note title=\"Discuss\"}\n",
        "{{< meta qc_plotqc_3 >}}\n",
        ":::\n",
        "\n",
        "## {{< meta qc_filter >}}\n",
        "\n",
        "### {{< meta qc_filter_detect >}}\n",
        "\n",
        "{{< meta qc_filter_detect_1 >}}"
      ]
    },
    {
      "cell_type": "code",
      "metadata": {},
      "source": [
        "sc.pp.filter_cells(adata, min_genes=200)\n",
        "sc.pp.filter_genes(adata, min_cells=3)\n",
        "\n",
        "print(adata.n_obs, adata.n_vars)"
      ],
      "execution_count": null,
      "outputs": []
    },
    {
      "cell_type": "markdown",
      "metadata": {},
      "source": [
        "{{< meta qc_filter_detect_3 >}}"
      ]
    },
    {
      "cell_type": "code",
      "metadata": {},
      "source": [
        "# skip for now as we are doing doublet prediction\n",
        "#keep_v2 = (adata.obs['n_genes_by_counts'] < 2000) & (adata.obs['n_genes_by_counts'] > 500) & (adata.obs['lib_prep'] == 'v2')\n",
        "#print(sum(keep_v2))\n",
        "\n",
        "# filter for gene detection for v3\n",
        "#keep_v3 = (adata.obs['n_genes_by_counts'] < 4100) & (adata.obs['n_genes_by_counts'] > 1000) & (adata.obs['lib_prep'] != 'v2')\n",
        "#print(sum(keep_v3))\n",
        "\n",
        "# keep both sets of cells\n",
        "#keep = (keep_v2) | (keep_v3)\n",
        "#print(sum(keep))\n",
        "#adata = adata[keep, :]\n",
        "\n",
        "#print(\"Remaining cells %d\"%adata.n_obs)"
      ],
      "execution_count": null,
      "outputs": []
    },
    {
      "cell_type": "markdown",
      "metadata": {},
      "source": [
        "{{< meta qc_filter_detect_4 >}}"
      ]
    },
    {
      "cell_type": "code",
      "metadata": {
        "fig-height": 6,
        "fig-width": 6
      },
      "source": [
        "sc.pl.highest_expr_genes(adata, n_top=20)"
      ],
      "execution_count": null,
      "outputs": []
    },
    {
      "cell_type": "markdown",
      "metadata": {},
      "source": [
        "{{< meta qc_filter_detect_5 >}}\n",
        "\n",
        "### {{< meta qc_filter_mr >}}\n",
        "\n",
        "{{< meta qc_filter_mr_1 >}}"
      ]
    },
    {
      "cell_type": "code",
      "metadata": {},
      "source": [
        "# filter for percent mito\n",
        "adata = adata[adata.obs['pct_counts_mt'] < 20, :]\n",
        "\n",
        "# filter for percent ribo > 0.05\n",
        "adata = adata[adata.obs['pct_counts_ribo'] > 5, :]\n",
        "\n",
        "print(\"Remaining cells %d\"%adata.n_obs)"
      ],
      "execution_count": null,
      "outputs": []
    },
    {
      "cell_type": "markdown",
      "metadata": {},
      "source": [
        "{{< meta qc_filter_mr_2 >}}\n",
        "\n",
        "### {{< meta qc_filter_plot >}}\n",
        "\n",
        "{{< meta qc_filter_plot_1 >}}"
      ]
    },
    {
      "cell_type": "code",
      "metadata": {},
      "source": [
        "sc.pl.violin(adata, ['n_genes_by_counts', 'total_counts', 'pct_counts_mt','pct_counts_ribo', 'pct_counts_hb'], jitter=0.4, groupby = 'sample', rotation = 45)"
      ],
      "execution_count": null,
      "outputs": []
    },
    {
      "cell_type": "markdown",
      "metadata": {},
      "source": [
        "### {{< meta qc_filter_genes >}}\n",
        "\n",
        "{{< meta qc_filter_genes_1 >}}"
      ]
    },
    {
      "cell_type": "code",
      "metadata": {},
      "source": [
        "malat1 = adata.var_names.str.startswith('MALAT1')\n",
        "# we need to redefine the mito_genes since they were first \n",
        "# calculated on the full object before removing low expressed genes.\n",
        "mito_genes = adata.var_names.str.startswith('MT-')\n",
        "hb_genes = adata.var_names.str.contains('^HB[^(P)]')\n",
        "\n",
        "remove = np.add(mito_genes, malat1)\n",
        "remove = np.add(remove, hb_genes)\n",
        "keep = np.invert(remove)\n",
        "\n",
        "adata = adata[:,keep]\n",
        "\n",
        "print(adata.n_obs, adata.n_vars)"
      ],
      "execution_count": null,
      "outputs": []
    },
    {
      "cell_type": "markdown",
      "metadata": {},
      "source": [
        "## {{< meta qc_sex >}}\n",
        "\n",
        "{{< meta qc_sex_1 >}}\n",
        "\n",
        "To get choromosome information for all genes, you should ideally parse the information from the gtf file that you used in the mapping pipeline\n",
        "as it has the exact same annotation version/gene naming. However, it may not always be available, as in this case where we have downloaded public data. Hence, we will use biomart to fetch chromosome information."
      ]
    },
    {
      "cell_type": "code",
      "metadata": {},
      "source": [
        "# requires pybiomart\n",
        "annot = sc.queries.biomart_annotations(\"hsapiens\", [\"ensembl_gene_id\", \"external_gene_name\", \"start_position\", \"end_position\", \"chromosome_name\"], ).set_index(\"external_gene_name\")\n",
        "# adata.var[annot.columns] = annot"
      ],
      "execution_count": null,
      "outputs": []
    },
    {
      "cell_type": "markdown",
      "metadata": {},
      "source": [
        "{{< meta qc_sex_3 >}}"
      ]
    },
    {
      "cell_type": "code",
      "metadata": {},
      "source": [
        "chrY_genes = adata.var_names.intersection(annot.index[annot.chromosome_name == \"Y\"])\n",
        "chrY_genes\n",
        "\n",
        "adata.obs['percent_chrY'] = np.sum(\n",
        "    adata[:, chrY_genes].X, axis=1).A1 / np.sum(adata.X, axis=1).A1 * 100"
      ],
      "execution_count": null,
      "outputs": []
    },
    {
      "cell_type": "markdown",
      "metadata": {},
      "source": [
        "{{< meta qc_sex_4 >}}"
      ]
    },
    {
      "cell_type": "code",
      "metadata": {
        "fig-height": 5,
        "fig-width": 5
      },
      "source": [
        "# color inputs must be from either .obs or .var, so add in XIST expression to obs.\n",
        "adata.obs[\"XIST-counts\"] = adata.X[:,adata.var_names.str.match('XIST')].toarray()\n",
        "\n",
        "sc.pl.scatter(adata, x='XIST-counts', y='percent_chrY', color=\"sample\")"
      ],
      "execution_count": null,
      "outputs": []
    },
    {
      "cell_type": "markdown",
      "metadata": {},
      "source": [
        "{{< meta qc_sex_5 >}}"
      ]
    },
    {
      "cell_type": "code",
      "metadata": {
        "fig-height": 5,
        "fig-width": 10
      },
      "source": [
        "sc.pl.violin(adata, [\"XIST-counts\", \"percent_chrY\"], jitter=0.4, groupby = 'sample', rotation= 45)"
      ],
      "execution_count": null,
      "outputs": []
    },
    {
      "cell_type": "markdown",
      "metadata": {},
      "source": [
        "{{< meta qc_sex_6 >}}\n",
        "\n",
        "## {{< meta qc_cellcycle >}}\n",
        "\n",
        "{{< meta qc_cellcycle_1 >}}\n",
        "\n",
        "First read the file with cell cycle genes, from Regev lab and split into S and G2M phase genes. Cell cycle genes were retrieved from the scanpy_usage github site via web browser at [RegevLab Github repo](https://github.com/theislab/scanpy_usage/blob/master/180209_cell_cycle/data/regev_lab_cell_cycle_genes.txt)."
      ]
    },
    {
      "cell_type": "code",
      "metadata": {},
      "source": [
        "%%bash\n",
        "if [ ! -f data/regev_lab_cell_cycle_genes.txt ]; then curl -o data/regev_lab_cell_cycle_genes.txt https://raw.githubusercontent.com/theislab/scanpy_usage/master/180209_cell_cycle/data/regev_lab_cell_cycle_genes.txt; fi"
      ],
      "execution_count": null,
      "outputs": []
    },
    {
      "cell_type": "code",
      "metadata": {},
      "source": [
        "cell_cycle_genes = [x.strip() for x in open('./data/regev_lab_cell_cycle_genes.txt')]\n",
        "print(len(cell_cycle_genes))\n",
        "\n",
        "# Split into 2 lists\n",
        "s_genes = cell_cycle_genes[:43]\n",
        "g2m_genes = cell_cycle_genes[43:]\n",
        "\n",
        "cell_cycle_genes = [x for x in cell_cycle_genes if x in adata.var_names]\n",
        "print(len(cell_cycle_genes))"
      ],
      "execution_count": null,
      "outputs": []
    },
    {
      "cell_type": "markdown",
      "metadata": {},
      "source": [
        "Before running cell cycle we have to normalize the data. In the scanpy object, the data slot will be overwritten with the normalized data. So first, save the raw data into the slot `raw`. Then run normalization, log transformation and scale the data."
      ]
    },
    {
      "cell_type": "code",
      "metadata": {},
      "source": [
        "# save normalized counts in raw slot.\n",
        "adata.raw = adata\n",
        "\n",
        "# normalize to depth 10 000\n",
        "sc.pp.normalize_per_cell(adata, counts_per_cell_after=1e4)\n",
        "\n",
        "# logaritmize\n",
        "sc.pp.log1p(adata)\n",
        "\n",
        "# scale\n",
        "sc.pp.scale(adata)"
      ],
      "execution_count": null,
      "outputs": []
    },
    {
      "cell_type": "markdown",
      "metadata": {},
      "source": [
        "We here perform cell cycle scoring. The function is actually a wrapper to sc.tl.score_gene_list, which is launched twice, to score separately S and G2M phases. Both sc.tl.score_gene_list and sc.tl.score_cell_cycle_genes are a port from Seurat and are supposed to work in a very similar way. To score a gene list, the algorithm calculates the difference of mean expression of the given list and the mean expression of reference genes. To build the reference, the function randomly chooses a bunch of genes matching the distribution of the expression of the given list. Cell cycle scoring adds three slots in data, a score for S phase, a score for G2M phase and the predicted cell cycle phase."
      ]
    },
    {
      "cell_type": "code",
      "metadata": {},
      "source": [
        "sc.tl.score_genes_cell_cycle(adata, s_genes=s_genes, g2m_genes=g2m_genes)"
      ],
      "execution_count": null,
      "outputs": []
    },
    {
      "cell_type": "markdown",
      "metadata": {},
      "source": [
        "{{< meta qc_cellcycle_2 >}}"
      ]
    },
    {
      "cell_type": "code",
      "metadata": {
        "fig-height": 5,
        "fig-width": 10
      },
      "source": [
        "sc.pl.violin(adata, ['S_score', 'G2M_score'], jitter=0.4, groupby = 'sample', rotation=45)"
      ],
      "execution_count": null,
      "outputs": []
    },
    {
      "cell_type": "markdown",
      "metadata": {},
      "source": [
        "{{< meta qc_cellcycle_3 >}}\n",
        "\n",
        "## {{< meta qc_doublet >}}\n",
        "\n",
        "{{< meta qc_doublet_1 >}}\n",
        "\n",
        ":::{.callout-caution}\n",
        "{{< meta qc_doublet_2 >}}\n",
        ":::\n",
        "\n",
        "For doublet detection, we will use the package `Scrublet`, so first we need to get the raw counts from `adata.raw.X` and run scrublet with that matrix. Then we add in the doublet prediction info into our anndata object.\n",
        "\n",
        "Doublet prediction should be run for each dataset separately, so first we need to split the adata object into 6 separate objects, one per sample and then run scrublet on each of them."
      ]
    },
    {
      "cell_type": "code",
      "metadata": {},
      "source": [
        "import scrublet as scr\n",
        "\n",
        "# split per batch into new objects.\n",
        "batches = adata.obs['sample'].cat.categories.tolist()\n",
        "alldata = {}\n",
        "for batch in batches:\n",
        "    tmp = adata[adata.obs['sample'] == batch,]\n",
        "    print(batch, \":\", tmp.shape[0], \" cells\")\n",
        "    scrub = scr.Scrublet(tmp.raw.X)\n",
        "    out = scrub.scrub_doublets(verbose=False, n_prin_comps = 20)\n",
        "    alldata[batch] = pd.DataFrame({'doublet_score':out[0],'predicted_doublets':out[1]},index = tmp.obs.index)\n",
        "    print(alldata[batch].predicted_doublets.sum(), \" predicted_doublets\")"
      ],
      "execution_count": null,
      "outputs": []
    },
    {
      "cell_type": "code",
      "metadata": {},
      "source": [
        "# add predictions to the adata object.\n",
        "scrub_pred = pd.concat(alldata.values())\n",
        "adata.obs['doublet_scores'] = scrub_pred['doublet_score'] \n",
        "adata.obs['predicted_doublets'] = scrub_pred['predicted_doublets'] \n",
        "\n",
        "sum(adata.obs['predicted_doublets'])"
      ],
      "execution_count": null,
      "outputs": []
    },
    {
      "cell_type": "markdown",
      "metadata": {},
      "source": [
        "{{< meta qc_doublet_3 >}}"
      ]
    },
    {
      "cell_type": "code",
      "metadata": {
        "fig-height": 5,
        "fig-width": 5
      },
      "source": [
        "# add in column with singlet/doublet instead of True/Fals\n",
        "%matplotlib inline\n",
        "\n",
        "adata.obs['doublet_info'] = adata.obs[\"predicted_doublets\"].astype(str)\n",
        "sc.pl.violin(adata, 'n_genes_by_counts', jitter=0.4, groupby = 'doublet_info', rotation=45)"
      ],
      "execution_count": null,
      "outputs": []
    },
    {
      "cell_type": "markdown",
      "metadata": {},
      "source": [
        "Now, lets run PCA and UMAP and plot doublet scores onto UMAP to check the doublet predictions."
      ]
    },
    {
      "cell_type": "code",
      "metadata": {
        "fig-height": 4,
        "fig-width": 12
      },
      "source": [
        "sc.pp.highly_variable_genes(adata, min_mean=0.0125, max_mean=3, min_disp=0.5)\n",
        "adata = adata[:, adata.var.highly_variable]\n",
        "sc.pp.regress_out(adata, ['total_counts', 'pct_counts_mt'])\n",
        "sc.pp.scale(adata, max_value=10)\n",
        "sc.tl.pca(adata, svd_solver='arpack')\n",
        "sc.pp.neighbors(adata, n_neighbors=10, n_pcs=40)\n",
        "sc.tl.umap(adata)\n",
        "sc.pl.umap(adata, color=['doublet_scores','doublet_info','sample'])"
      ],
      "execution_count": null,
      "outputs": []
    },
    {
      "cell_type": "markdown",
      "metadata": {},
      "source": [
        "{{< meta qc_doublet_4 >}}"
      ]
    },
    {
      "cell_type": "code",
      "metadata": {},
      "source": [
        "# also revert back to the raw counts as the main matrix in adata\n",
        "adata = adata.raw.to_adata() \n",
        "\n",
        "adata = adata[adata.obs['doublet_info'] == 'False',:]\n",
        "print(adata.shape)"
      ],
      "execution_count": null,
      "outputs": []
    },
    {
      "cell_type": "markdown",
      "metadata": {},
      "source": [
        "## {{< meta qc_save >}}\n",
        "\n",
        "{{< meta qc_save_1 >}}"
      ]
    },
    {
      "cell_type": "code",
      "metadata": {},
      "source": [
        "import os\n",
        "if not os.path.exists('data/results/'):\n",
        "    os.makedirs('data/results/', exist_ok=True)\n",
        "if not os.path.exists('data/results/scanpy_qc_filtered_covid.h5ad'):\n",
        "    adata.write_h5ad('data/results/scanpy_qc_filtered_covid.h5ad')"
      ],
      "execution_count": null,
      "outputs": []
    },
    {
      "cell_type": "markdown",
      "metadata": {},
      "source": [
        "## {{< meta session >}}"
      ]
    },
    {
      "cell_type": "code",
      "metadata": {},
      "source": [
        "sc.logging.print_versions()"
      ],
      "execution_count": null,
      "outputs": []
    }
  ],
  "metadata": {
    "kernelspec": {
      "name": "python3",
      "language": "python",
      "display_name": "Python 3 (ipykernel)"
    }
  },
  "nbformat": 4,
  "nbformat_minor": 4
}